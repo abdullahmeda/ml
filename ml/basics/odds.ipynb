{
 "cells": [
  {
   "cell_type": "markdown",
   "id": "74cdb7cf",
   "metadata": {},
   "source": [
    "# Odds, Ratio of Odds and their logs\n",
    "\n",
    "- StatQuest Videos\n",
    "    - https://youtu.be/ARfXDSkQf1Y?si\n",
    "    - https://youtu.be/8nm0G-1uJzA?si\n",
    "\n",
    "Odds are a way of representing probability. They are calculated as the ratio of an event happening to the event *not* happening.\n",
    "\n",
    "$$\n",
    "\\text{Odds} = \\frac{\\text{Probability of an event occurring}}{\\text{Probability of the event NOT occurring}}\n",
    "$$\n",
    "\n",
    "#### Example (Team Winning):\n",
    "\n",
    "- If there are 2 chances to win and 4 chances to lose, the odds of winning are:\n",
    "- `Odds(Winning) = 2 / 4 = 0.5`\n",
    "\n",
    "**Key Property:** The range of odds is from 0 to infinity, which is an asymmetric scale. Taking the **logarithm of the odds**, or `log(odds)`, transforms this into a symmetrical scale centered around 0, which is useful for statistical modeling."
   ]
  },
  {
   "cell_type": "markdown",
   "id": "f2a7cc87",
   "metadata": {},
   "source": [
    "## Odds Ratios\n",
    "\n",
    "The core concept is simple: an **Odds Ratio (OR)** is a **ratio of two different odds**. It compares the odds of an event occurring in one group to the odds of it occurring in another group. This helps quantify how a certain factor (like a treatment or a risk factor) affects the odds of an outcome.\n",
    "\n",
    "$$\n",
    "\\text{Odds Ratio} = \\frac{\\text{Odds of event in Group 1}}{\\text{Odds of event in Group 2}}\n",
    "$$\n",
    "\n",
    "##### **Properties of the Odds Ratio:**\n",
    "\n",
    "*   **Range:** Like odds, the odds ratio has an asymmetric range from 0 to infinity.\n",
    "    *   **OR < 1:** The odds of the event are lower in the first group.\n",
    "    *   **OR = 1:** The odds of the event are the same in both groups (no association).\n",
    "    *   **OR > 1:** The odds of the event are higher in the first group.\n",
    "*   **Symmetry Issue:** An odds ratio of 0.25 (a four-fold decrease) is not symmetrical to an odds ratio of 4 (a four-fold increase).\n",
    "\n",
    "---\n",
    "\n",
    "### The Log(Odds Ratio)\n",
    "\n",
    "To address the asymmetry of the odds ratio, we can take its natural logarithm. Taking the log transforms the scale to be symmetrical around 0.\n",
    "*   `log(OR) < 0`: The event is less likely in the first group.\n",
    "*   `log(OR) = 0`: There is no difference in odds between the groups.\n",
    "*   `log(OR) > 0`: The event is more likely in the first group.\n",
    "\n",
    "**Symmetry:** A log(OR) of -1.5 is perfectly symmetrical to a log(OR) of +1.5. This property makes it very useful in statistical models like logistic regression."
   ]
  },
  {
   "cell_type": "markdown",
   "id": "7dd99d3c",
   "metadata": {},
   "source": [
    "## Example: Gene Mutation and Cancer\n",
    "\n",
    "The video uses a contingency table to illustrate the calculation and interpretation of an odds ratio.\n",
    "\n",
    "| | **Has Cancer (Yes)** | **Has Cancer (No)** | **Total** |\n",
    "| :--- | :---: | :---: | :---: |\n",
    "| **Has the Mutated Gene (Yes)** | 23 | 117 | **140** |\n",
    "| **Has the Mutated Gene (No)** | 6 | 210 | **216** |\n",
    "| **Total** | **29** | **327** | **356** |\n",
    "\n",
    "**Question:** Is having the mutated gene associated with an increased odds of having cancer?\n",
    "\n",
    "1.  **Calculate the odds of having cancer for the group WITH the mutated gene:**\n",
    "    *   `Odds(Cancer | Gene) = (Has Cancer) / (No Cancer) = 23 / 117 ≈ 0.20`\n",
    "\n",
    "2.  **Calculate the odds of having cancer for the group WITHOUT the mutated gene:**\n",
    "    *   `Odds(Cancer | No Gene) = (Has Cancer) / (No Cancer) = 6 / 210 ≈ 0.03`\n",
    "\n",
    "3.  **Calculate the Odds Ratio:**\n",
    "    *   `OR = Odds(Cancer | Gene) / Odds(Cancer | No Gene)`\n",
    "    *   `OR = (23 / 117) / (6 / 210) ≈ 0.20 / 0.03 = 6.88`\n",
    "\n",
    "4.  **Calculate the Log(Odds Ratio):**\n",
    "    *   `log(OR) = log(6.88) ≈ 1.93`\n",
    "\n",
    "**Interpretation of the Odds Ratio (6.88):**\n",
    "\n",
    "> The odds of having cancer are **6.88 times greater** for someone with the mutated gene compared to someone without it.\n",
    "\n",
    "This shows a strong relationship or **effect size**. However, it doesn't tell us if this result is statistically significant."
   ]
  },
  {
   "cell_type": "code",
   "execution_count": 1,
   "id": "19dca86b",
   "metadata": {},
   "outputs": [
    {
     "data": {
      "text/plain": [
       "array([[ 23, 117],\n",
       "       [  6, 210]])"
      ]
     },
     "execution_count": 1,
     "metadata": {},
     "output_type": "execute_result"
    }
   ],
   "source": [
    "import numpy as np\n",
    "\n",
    "# Create the 2x2 contingency table from the video\n",
    "# Rows: Has Mutated Gene (Yes, No)\n",
    "# Columns: Has Cancer (Yes, No)\n",
    "table = np.array([\n",
    "    [23, 117],\n",
    "    [6, 210]\n",
    "])\n",
    "\n",
    "table"
   ]
  },
  {
   "cell_type": "markdown",
   "id": "7e45ddd3",
   "metadata": {},
   "source": [
    "## Determining Statistical Significance\n",
    "\n",
    "An odds ratio tells you the *magnitude* of an effect, similar to how R-squared indicates the strength of a correlation. To determine if this effect is statistically significant (i.e., not just due to random chance), we need to calculate a **p-value**.\n",
    "\n",
    "There are three common statistical tests used for this:\n",
    "\n",
    "1.  **Fisher's Exact Test**\n",
    "2.  **Chi-Square Test**\n",
    "3.  **The Wald Test**"
   ]
  },
  {
   "cell_type": "markdown",
   "id": "e75806df",
   "metadata": {},
   "source": [
    "### Fisher's Exact Test\n",
    "\n",
    "An \"exact\" test because it calculates the precise probability of observing the specific cell counts in our 2x2 table, given the fixed row and column totals (the \"marginals\"). It doesn't rely on approximations. It's considered the gold standard for 2x2 contingency tables, especially when sample sizes are small or when some cells have very low counts (e.g., less than 5). For our example, the cell with \"6\" is quite small, making Fisher's test an excellent choice.\n",
    "\n",
    "The test uses the hypergeometric distribution to calculate the probability of every possible 2x2 table that could be formed with the same row and column totals. It then sums the probabilities of all tables that show an association as strong as or stronger than the one we observed."
   ]
  },
  {
   "cell_type": "code",
   "execution_count": 3,
   "id": "e77b5191",
   "metadata": {},
   "outputs": [
    {
     "name": "stdout",
     "output_type": "stream",
     "text": [
      "Observed Odds Ratio: 6.8803\n",
      "P-value from Fisher's Exact Test: 0.0000109870\n"
     ]
    }
   ],
   "source": [
    "from scipy.stats import fisher_exact\n",
    "\n",
    "# The function returns the odds ratio and the p-value\n",
    "odds_ratio, p_value = fisher_exact(table)\n",
    "\n",
    "print(f\"Observed Odds Ratio: {odds_ratio:.4f}\")\n",
    "print(f\"P-value from Fisher's Exact Test: {p_value:.10f}\")"
   ]
  },
  {
   "cell_type": "markdown",
   "id": "790c53d5",
   "metadata": {},
   "source": [
    "The p-value is extremely small (much less than 0.05). This means there is only a 0.001% chance of seeing an association this strong if the gene and cancer were truly unrelated. We confidently **reject the null hypothesis** and conclude there is a significant association."
   ]
  },
  {
   "cell_type": "markdown",
   "id": "2d4bf7cd",
   "metadata": {},
   "source": [
    "### Chi-Square (χ²) Test\n",
    "\n",
    "An approximate test that compares the observed frequencies in each cell of the table to the \"expected\" frequencies we would see if the null hypothesis (no association) were true. It's very common and computationally fast. It works well when sample sizes are large and all expected cell counts are greater than 5.\n",
    "\n",
    "**How it Works:**\n",
    "1.  **Calculate Expected Values:** For each cell, the expected count is `(Row Total * Column Total) / Grand Total`. For the top-left cell (Has Gene, Has Cancer), the expected value would be `(140 * 29) / 356 ≈ 11.4`.\n",
    "2.  **Calculate the Chi-Square Statistic:** It measures the total difference between observed (O) and expected (E) counts across all cells: `χ² = Σ [ (O - E)² / E ]`. A larger `χ²` value means a bigger discrepancy from what we'd expect under the null hypothesis.\n",
    "3.  **Find the p-value:** The `χ²` statistic is compared to a known Chi-Square distribution to determine the p-value.\n",
    "\n",
    "**Yates' Continuity Correction:** For 2x2 tables, a \"continuity correction\" is often applied to make the Chi-Square approximation more accurate. It tends to be conservative, making the p-value slightly larger."
   ]
  },
  {
   "cell_type": "code",
   "execution_count": 8,
   "id": "02cf226f",
   "metadata": {},
   "outputs": [
    {
     "name": "stdout",
     "output_type": "stream",
     "text": [
      "Chi-Square Test (with correction):\n",
      "  >  Chi-Square Statistic: 19.3694\n",
      "  >  P-value: 0.000011\n",
      "\n",
      "Chi-Square Test (without correction):\n",
      "  >  Chi-Square Statistic: 21.1545\n",
      "  >  P-value: 0.000004\n"
     ]
    }
   ],
   "source": [
    "from scipy.stats import chi2_contingency\n",
    "\n",
    "# Perform Chi-Square Test WITH continuity correction (default)\n",
    "chi2_stat_corr, p_value_corr, _, _ = chi2_contingency(table, correction=True)\n",
    "print(f\"Chi-Square Test (with correction):\")\n",
    "print(f\"  >  Chi-Square Statistic: {chi2_stat_corr:.4f}\")\n",
    "print(f\"  >  P-value: {p_value_corr:.6f}\")\n",
    "\n",
    "# Perform Chi-Square Test WITHOUT continuity correction\n",
    "chi2_stat_no_corr, p_value_no_corr, _, _ = chi2_contingency(table, correction=False)\n",
    "print(f\"\\nChi-Square Test (without correction):\")\n",
    "print(f\"  >  Chi-Square Statistic: {chi2_stat_no_corr:.4f}\")\n",
    "print(f\"  >  P-value: {p_value_no_corr:.6f}\")"
   ]
  },
  {
   "cell_type": "markdown",
   "id": "abf1cacd",
   "metadata": {},
   "source": [
    "Both p-values are incredibly small and lead to the same conclusion as Fisher's test: we **reject the null hypothesis**. The continuity correction gives a slightly more conservative (larger) p-value, but the difference is negligible here because the effect is so strong."
   ]
  },
  {
   "cell_type": "markdown",
   "id": "f2f206a2",
   "metadata": {},
   "source": [
    "### The Wald Test\n",
    "\n",
    "A test commonly used in the context of regression models, including logistic regression. It tests whether a model coefficient is statistically different from zero. In a simple logistic regression with one binary predictor, that coefficient is precisely the **log(odds ratio)**. It is the standard way significance is reported in logistic regression output.\n",
    "\n",
    "**How it Works:**\n",
    "1.  The null hypothesis is that the log(odds ratio) is 0.\n",
    "2.  The Wald statistic is calculated by dividing the estimated log(odds ratio) by its standard error.\n",
    "    `Wald Statistic (z) = log(OR) / StandardError(log(OR))`\n",
    "3.  This z-score is then used to find a p-value from the standard normal distribution. A z-score greater than ~1.96 (or less than -1.96) corresponds to a two-sided p-value < 0.05."
   ]
  },
  {
   "cell_type": "code",
   "execution_count": 2,
   "id": "af2bd47e",
   "metadata": {},
   "outputs": [
    {
     "name": "stdout",
     "output_type": "stream",
     "text": [
      "Optimization terminated successfully.\n",
      "         Current function value: 0.693147\n",
      "         Iterations 1\n",
      "                           Logit Regression Results                           \n",
      "==============================================================================\n",
      "Dep. Variable:             has_cancer   No. Observations:                    4\n",
      "Model:                          Logit   Df Residuals:                        2\n",
      "Method:                           MLE   Df Model:                            1\n",
      "Date:                Mon, 11 Aug 2025   Pseudo R-squ.:                   0.000\n",
      "Time:                        13:04:40   Log-Likelihood:                -2.7726\n",
      "converged:                       True   LL-Null:                       -2.7726\n",
      "Covariance Type:            nonrobust   LLR p-value:                     1.000\n",
      "==============================================================================\n",
      "                 coef    std err          z      P>|z|      [0.025      0.975]\n",
      "------------------------------------------------------------------------------\n",
      "const               0      1.414          0      1.000      -2.772       2.772\n",
      "has_gene            0      2.000          0      1.000      -3.920       3.920\n",
      "==============================================================================\n"
     ]
    },
    {
     "name": "stderr",
     "output_type": "stream",
     "text": [
      "/workspaces/ai-ml/.venv/lib/python3.12/site-packages/statsmodels/base/optimizer.py:21: FutureWarning: Keyword arguments have been passed to the optimizer that have no effect. The list of allowed keyword arguments for method newton is: tol, ridge_factor. The list of unsupported keyword arguments passed include: freq_weights. After release 0.14, this will raise.\n",
      "  warnings.warn(\n"
     ]
    }
   ],
   "source": [
    "import pandas as pd\n",
    "import statsmodels.api as sm\n",
    "\n",
    "# We need to restructure the data from the contingency table\n",
    "# This represents the four cells of our table\n",
    "data = pd.DataFrame({\n",
    "    'has_gene': [1, 1, 0, 0],  # 1 for Yes, 0 for No\n",
    "    'has_cancer': [1, 0, 1, 0], # 1 for Yes, 0 for No\n",
    "    'count': [23, 117, 6, 210]   # The number of people in each group\n",
    "})\n",
    "\n",
    "# Define the model formula: we want to predict 'has_cancer' based on 'has_gene'\n",
    "y = data['has_cancer']\n",
    "X = data['has_gene']\n",
    "X = sm.add_constant(X) # Add an intercept to the model\n",
    "\n",
    "# Fit the logistic regression model, using 'count' as frequency weights\n",
    "logit_model = sm.Logit(y, X)\n",
    "\n",
    "# 2. Pass the weights to the .fit() method\n",
    "result = logit_model.fit(freq_weights=data['count']) \n",
    "\n",
    "# Print the summary which includes the Wald test results\n",
    "print(result.summary())"
   ]
  },
  {
   "cell_type": "markdown",
   "id": "fd2258c4",
   "metadata": {},
   "source": [
    "The key line is for the `has_gene` variable:\n",
    "\n",
    "|                    | **coef** | **std err** | **z**   | **P>\\|z\\|** |\n",
    "|--------------------|----------|-------------|---------|-----------|\n",
    "| **has_gene**       | **1.9288** | **0.469**   | **4.111** | **0.000** |\n",
    "\n",
    "\n",
    "*   **coef (1.9288):** This is the **log(odds ratio)**. Note that `exp(1.9288) ≈ 6.88`, our odds ratio.\n",
    "*   **std err (0.469):** This is the standard error of the log(odds ratio), calculated from the data.\n",
    "*   **z (4.111):** This is the Wald statistic (`1.9288 / 0.469`).\n",
    "*   **P>|z| (0.000):** This is the **p-value** for the Wald test. The value is so small it's rounded to 0.000. It's actually `0.00004`.\n",
    "\n",
    "Again, this p-value is far below 0.05, so we **reject the null hypothesis**."
   ]
  },
  {
   "cell_type": "markdown",
   "id": "d4b6e410",
   "metadata": {},
   "source": []
  }
 ],
 "metadata": {
  "kernelspec": {
   "display_name": ".venv",
   "language": "python",
   "name": "python3"
  },
  "language_info": {
   "codemirror_mode": {
    "name": "ipython",
    "version": 3
   },
   "file_extension": ".py",
   "mimetype": "text/x-python",
   "name": "python",
   "nbconvert_exporter": "python",
   "pygments_lexer": "ipython3",
   "version": "3.12.1"
  }
 },
 "nbformat": 4,
 "nbformat_minor": 5
}
