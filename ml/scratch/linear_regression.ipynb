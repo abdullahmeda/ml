{
  "cells": [
    {
      "cell_type": "markdown",
      "metadata": {
        "vscode": {
          "languageId": "raw"
        }
      },
      "source": [
        "# Linear Regression\n",
        "\n",
        "- StatQuest Videos:\n",
        "    - https://youtu.be/PaFPbb66DxQ\n",
        "    - https://youtu.be/7ArmBVF2dCs\n",
        "\n",
        "Linear regression involves three core steps:\n",
        "1.  **Use least-squares** to fit a line to the data.\n",
        "2.  **Calculate $R^2$** to quantify how well the line fits the data.\n",
        "3.  **Calculate a p-value for $R^2$** to determine if the relationship is statistically significant.\n"
      ]
    },
    {
      "cell_type": "code",
      "execution_count": 2,
      "metadata": {},
      "outputs": [],
      "source": [
        "import numpy as np\n",
        "import matplotlib.pyplot as plt\n",
        "\n",
        "# --- Data used in the video (approximately) ---\n",
        "mouse_weight = np.array([0.9, 1.8, 2.4, 3.5, 3.9, 4.4, 5.1, 5.6, 6.3])\n",
        "mouse_size = np.array([1.4, 2.6, 1.0, 3.7, 5.5, 3.2, 3.0, 4.9, 6.3])\n"
      ]
    },
    {
      "cell_type": "markdown",
      "metadata": {
        "vscode": {
          "languageId": "raw"
        }
      },
      "source": [
        "### Step 1: Fitting a Line with Least-Squares\n",
        "\n",
        "The goal is to find the line that best represents the relationship in the data (e.g., predicting mouse size from mouse weight).\n",
        "\n",
        "*   **Residual:** The distance from a data point to the fitted line.\n",
        "*   **Least-Squares Method:** The process of finding the line that minimizes the **sum of the squared residuals**.\n",
        "    1.  Start with an arbitrary line through the data.\n",
        "    2.  Calculate the residual for each data point.\n",
        "    3.  Square each residual.\n",
        "    4.  Sum all the squared residuals.\n",
        "    5.  Rotate/shift the line and repeat, finding the line position that results in the **least sum of squares**. This is the best-fit line.\n",
        "*   **Parameters:** The least-squares method estimates the parameters for the line's equation \n",
        "\n",
        "$$y = \\text{y-intercept} + \\text{slope} \\times x$$ \n",
        "\n",
        "For a simple line, it estimates two parameters:\n",
        "- The **y-intercept**.\n",
        "- The **slope**.\n",
        "\n",
        "> As the video explains, the goal is to find the line that minimizes the sum of the squared residuals. While the video conceptually shows this as \"rotating the line,\" mathematically we can calculate the slope and intercept directly using the least-squares formulas.\n"
      ]
    },
    {
      "cell_type": "code",
      "execution_count": 3,
      "metadata": {},
      "outputs": [
        {
          "name": "stdout",
          "output_type": "stream",
          "text": [
            "The equation for the line is: y = 0.58 + 0.78x\n"
          ]
        }
      ],
      "source": [
        "def least_squares_fit(x_values, y_values):\n",
        "    \"\"\"\n",
        "    Calculates the slope and intercept of the least-squares regression line.\n",
        "    \n",
        "    Args:\n",
        "        x_values (np.array): The independent variable data.\n",
        "        y_values (np.array): The dependent variable data.\n",
        "        \n",
        "    Returns:\n",
        "        tuple: A tuple containing the slope and y-intercept.\n",
        "    \"\"\"\n",
        "    # Calculate the means of x and y\n",
        "    mean_x = np.mean(x_values)\n",
        "    mean_y = np.mean(y_values)\n",
        "    \n",
        "    # Calculate the terms needed for the slope formula\n",
        "    numerator = np.sum((x_values - mean_x) * (y_values - mean_y))\n",
        "    denominator = np.sum((x_values - mean_x)**2)\n",
        "    \n",
        "    # Calculate slope (m) and intercept (b)\n",
        "    slope = numerator / denominator\n",
        "    intercept = mean_y - (slope * mean_x)\n",
        "    \n",
        "    return slope, intercept\n",
        "\n",
        "\n",
        "# Calculate the slope and intercept of the least-squares regression line\n",
        "slope, intercept = least_squares_fit(mouse_weight, mouse_size)\n",
        "\n",
        "print(f\"The equation for the line is: y = {intercept:.2f} + {slope:.2f}x\")\n"
      ]
    },
    {
      "cell_type": "code",
      "execution_count": 4,
      "metadata": {},
      "outputs": [
        {
          "data": {
            "image/png": "[encoded data removed]",
            "text/plain": [
              "<Figure size 500x300 with 1 Axes>"
            ]
          },
          "metadata": {},
          "output_type": "display_data"
        }
      ],
      "source": [
        "# Generate the predicted y-values using our fitted line\n",
        "predicted_mouse_size = slope * mouse_weight + intercept\n",
        "\n",
        "plt.figure(figsize=(5, 3))\n",
        "plt.scatter(mouse_weight, mouse_size, color='darkred', s=60, zorder=3, label='Original Data')\n",
        "plt.plot(mouse_weight, predicted_mouse_size, color='black', linewidth=3, label='Least-Squares Fit')\n",
        "\n",
        "plt.xlabel('Mouse Weight (g)')\n",
        "plt.ylabel('Mouse Size (cm)')\n",
        "plt.show()\n"
      ]
    },
    {
      "cell_type": "markdown",
      "metadata": {
        "vscode": {
          "languageId": "raw"
        }
      },
      "source": [
        "### Step 2: Calculating $R^2$ (R-squared)\n",
        "\n",
        "$R^2$ tells us how much of the variation in our data is \"explained\" by the model.\n",
        "\n",
        "1.  **Total Variation (Variation around the Mean):**\n",
        "    *   First, calculate the average of the response variable (e.g., the average mouse size). This is represented by a horizontal line.\n",
        "    *   Calculate the sum of the squared distances from each data point to this mean line. This is called **SS(mean)**.\n",
        "    *   The **Var(mean)** is calculated as $\\text{SS(mean)} / n$ (where $n$ is the sample size). This represents the total raw variation in the data before fitting a model.\n",
        "\n",
        "2.  **Variation Around the Fit:**\n",
        "    *   Next, use the least-squares fit line.\n",
        "    *   Calculate the sum of the squared residuals around this fitted line. This is called **SS(fit)**.\n",
        "    *   The **Var(fit)** is calculated as $\\text{SS(fit)} / n$. This represents the variation that is *not* explained by the model.\n",
        "\n",
        "3.  **$R^2$ Formula & Interpretation:**\n",
        "    *   $R^2$ is the reduction in variance achieved by using the fitted line instead of just the mean.\n",
        "    *   **Formula (using variance):** \n",
        "    $$R^2 = \\frac{\\text{Var(mean)} - \\text{Var(fit)}}{\\text{Var(mean)}}$$\n",
        "    *   **Formula (using sum of squares):** \n",
        "    $$R^2 = \\frac{\\text{SS(mean)} - \\text{SS(fit)}}{\\text{SS(mean)}}$$\n",
        "    *   **Interpretation:** $R^2$ is the proportion of variation in the response variable (e.g., mouse size) that is explained by the predictor variable (e.g., mouse weight). An $R^2$ of 0.6 means 60% of the variation is explained.\n",
        "\n",
        "#### Important Note on $R^2$ and Extra Parameters\n",
        "*   Adding more parameters to an equation (even useless, random ones) will never make the $R^2$ value worse. It can only stay the same or improve due to random chance.\n",
        "*   This is why we can't just rely on a high $R^2$ value; we need to test if it's statistically significant.\n"
      ]
    },
    {
      "cell_type": "code",
      "execution_count": 5,
      "metadata": {},
      "outputs": [
        {
          "name": "stdout",
          "output_type": "stream",
          "text": [
            "SS(mean) - The total variation in mouse size: 25.65\n",
            "SS(fit) - The unexplained variation (residuals): 9.92\n",
            "\n",
            "R-squared: 0.61\n",
            "Interpretation: 61% of the variation in mouse size can be explained by mouse weight.\n"
          ]
        }
      ],
      "source": [
        "def calculate_r_squared(y_original, y_predicted):\n",
        "    \"\"\"\n",
        "    Calculates R-squared, the proportion of variance explained by the model.\n",
        "    \n",
        "    This function uses the terminology from the video: SS(mean) and SS(fit).\n",
        "    \n",
        "    Args:\n",
        "        y_original (np.array): The actual data points for the dependent variable.\n",
        "        y_predicted (np.array): The predicted values from the regression line.\n",
        "        \n",
        "    Returns:\n",
        "        float: The R-squared value.\n",
        "        tuple: A tuple containing SS(mean) and SS(fit) for later use.\n",
        "    \"\"\"\n",
        "    # Calculate SS(mean): The total variation around the mean.\n",
        "    # This is the sum of squared differences between each original y-value and the mean of y.\n",
        "    mean_y = np.mean(y_original)\n",
        "    ss_mean = np.sum((y_original - mean_y)**2)\n",
        "    \n",
        "    # Calculate SS(fit): The variation that remains after fitting the line (residuals).\n",
        "    # This is the sum of squared differences between each original y-value and its predicted value.\n",
        "    ss_fit = np.sum((y_original - y_predicted)**2)\n",
        "    \n",
        "    # Calculate R-squared\n",
        "    # Handle the case where ss_mean is zero to avoid division by zero\n",
        "    if ss_mean == 0:\n",
        "        return 1.0, (ss_mean, ss_fit)\n",
        "        \n",
        "    r_squared = (ss_mean - ss_fit) / ss_mean\n",
        "    \n",
        "    return r_squared, (ss_mean, ss_fit)\n",
        "\n",
        "\n",
        "# Calculate R-squared and other metrics\n",
        "r_squared, (ss_mean, ss_fit) = calculate_r_squared(mouse_size, predicted_mouse_size)\n",
        "\n",
        "print(f\"SS(mean) - The total variation in mouse size: {ss_mean:.2f}\")\n",
        "print(f\"SS(fit) - The unexplained variation (residuals): {ss_fit:.2f}\")\n",
        "print()\n",
        "print(f\"R-squared: {r_squared:.2f}\")\n",
        "print(f\"Interpretation: {r_squared*100:.0f}% of the variation in mouse size can be explained by mouse weight.\")\n"
      ]
    },
    {
      "cell_type": "markdown",
      "metadata": {
        "vscode": {
          "languageId": "raw"
        }
      },
      "source": [
        "### Step 3: Calculating a P-value for $R^2$\n",
        "\n",
        "The p-value tells us how reliable the relationship (quantified by $R^2$) is. We get the p-value from a statistic called **\"F\"**.\n",
        "\n",
        "*   **The F-statistic:** $F$ is a ratio that compares the variation explained by the fit to the variation *not* explained by the fit.\n",
        "    $$F = \\frac{\\text{The variation in mouse size explained by weight}}{\\text{The variation in mouse size NOT explained by weight}}$$\n",
        "    *   A good fit means the variation explained (numerator) is large, and the variation not explained (denominator) is small. This results in a **large F-value**.\n",
        "\n",
        "*   **The Full F-statistic Equation:**\n",
        "    $$F = \\frac{\\frac{\\text{SS(mean)} - \\text{SS(fit)}}{p_{\\text{fit}} - p_{\\text{mean}}}}{\\frac{\\text{SS(fit)}}{n - p_{\\text{fit}}}}$$\n",
        "    *   **Numerator:** The variance explained by the *extra* parameters in the fit.\n",
        "    *   **Denominator:** The variance not explained by the fit (the residual variance).\n",
        "\n",
        "*   **Degrees of Freedom:**\n",
        "    *   The terms $(p_{\\text{fit}} - p_{\\text{mean}})$ and $(n - p_{\\text{fit}})$ are the **degrees of freedom**. They turn the sums of squares into variances.\n",
        "    *   **$p_{\\text{fit}}$:** The number of parameters in the fitted line (e.g., 2 for a simple line: intercept + slope).\n",
        "    *   **$p_{\\text{mean}}$:** The number of parameters in the mean line (always 1: the intercept).\n",
        "    *   **$n$:** The sample size.\n",
        "\n",
        "*   **Finding the P-value:**\n",
        "    1.  Calculate the F-statistic for your original data.\n",
        "    2.  The p-value is determined by comparing your F-statistic to an **F-distribution**, which is a histogram of F-values you would get from random data.\n",
        "    3.  **P-value = $\\frac{\\text{number of more extreme values in the distribution}}{\\text{all the values in the distribution}}$**\n",
        "    4.  A large F-value will be in the tail of the distribution, resulting in a small p-value.\n"
      ]
    },
    {
      "cell_type": "code",
      "execution_count": 6,
      "metadata": {},
      "outputs": [],
      "source": [
        "from scipy.stats import f\n",
        "\n",
        "def calculate_f_statistic(ss_mean, ss_fit, n, p_fit, p_mean=1):\n",
        "    \"\"\"\n",
        "    Calculates the F-statistic to test the significance of the model.\n",
        "    \n",
        "    Args:\n",
        "        ss_mean (float): Sum of squares around the mean.\n",
        "        ss_fit (float): Sum of squares around the fit (residuals).\n",
        "        n (int): The number of data points (sample size).\n",
        "        p_fit (int): The number of parameters in the fitted model.\n",
        "        p_mean (int): The number of parameters in the mean model (always 1).\n",
        "        \n",
        "    Returns:\n",
        "        float: The calculated F-statistic.\n",
        "    \"\"\"\n",
        "    # The numerator is the variance explained by the extra parameters in the fit.\n",
        "    # It's the reduction in the sum of squares, divided by the number of extra parameters.\n",
        "    numerator = (ss_mean - ss_fit) / (p_fit - p_mean)\n",
        "    \n",
        "    # The denominator is the variance NOT explained by the fit.\n",
        "    # It's the remaining sum of squares, divided by the remaining degrees of freedom.\n",
        "    denominator = ss_fit / (n - p_fit)\n",
        "    \n",
        "    # Handle division by zero if the fit is perfect (denominator is 0)\n",
        "    if denominator == 0:\n",
        "        return float('inf') # A perfect fit results in an infinite F-statistic\n",
        "\n",
        "    f_stat = numerator / denominator\n",
        "    \n",
        "    return f_stat\n",
        "\n",
        "def get_p_value_from_f(f_statistic, df_numerator, df_denominator):\n",
        "    \"\"\"\n",
        "    Calculates the p-value from an F-statistic and degrees of freedom.\n",
        "    \n",
        "    This uses the F-distribution to find the probability of observing an F-statistic\n",
        "    as extreme or more extreme than the one calculated, assuming the null hypothesis is true.\n",
        "    \n",
        "    Args:\n",
        "        f_statistic (float): The calculated F-statistic.\n",
        "        df_numerator (int): Degrees of freedom for the numerator (p_fit - p_mean).\n",
        "        df_denominator (int): Degrees of freedom for the denominator (n - p_fit).\n",
        "        \n",
        "    Returns:\n",
        "        float: The p-value.\n",
        "    \"\"\"\n",
        "    # The survival function (sf) is 1 - cdf, which gives the area to the right of the value,\n",
        "    # which is exactly what a p-value is for an F-test.\n",
        "    p_value = f.sf(f_statistic, df_numerator, df_denominator)\n",
        "    return p_value\n"
      ]
    },
    {
      "cell_type": "code",
      "execution_count": 7,
      "metadata": {},
      "outputs": [
        {
          "name": "stdout",
          "output_type": "stream",
          "text": [
            "F-statistic:  11.101267169874111\n",
            "P-value:  0.012559062326425313\n"
          ]
        }
      ],
      "source": [
        "n = len(mouse_weight)\n",
        "p_fit = 2  # Number of parameters in the fit line (slope + intercept)\n",
        "p_mean = 1 # Number of parameters in the mean line (just the mean/intercept)\n",
        "\n",
        "f_statistic = calculate_f_statistic(ss_mean, ss_fit, n, p_fit, p_mean)\n",
        "print(\"F-statistic: \", f_statistic)\n",
        "\n",
        "df_numerator = p_fit - p_mean\n",
        "df_denominator = n - p_fit\n",
        "\n",
        "p_value = get_p_value_from_f(f_statistic, df_numerator, df_denominator)\n",
        "print(\"P-value: \", p_value)\n"
      ]
    },
    {
      "cell_type": "markdown",
      "metadata": {
        "vscode": {
          "languageId": "raw"
        }
      },
      "source": [
        "## Summary\n",
        "\n",
        "In short, given some data you think are related, linear regression:\n",
        "\n",
        "1.  **Quantifies the relationship ($R^2$):** This tells you *how much* of the variation is explained by your model. **This needs to be large.**\n",
        "2.  **Determines reliability (p-value):** This tells you if the relationship is likely real or just due to random chance. **This needs to be small.**\n",
        "\n",
        "**You need both a large $R^2$ and a small p-value to have an interesting and reliable result.**\n"
      ]
    }
  ],
  "metadata": {
    "kernelspec": {
      "display_name": ".venv",
      "language": "python",
      "name": "python3"
    },
    "language_info": {
      "codemirror_mode": {
        "name": "ipython",
        "version": 3
      },
      "file_extension": ".py",
      "mimetype": "text/x-python",
      "name": "python",
      "nbconvert_exporter": "python",
      "pygments_lexer": "ipython3",
      "version": "3.12.1"
    }
  },
  "nbformat": 4,
  "nbformat_minor": 2
}
